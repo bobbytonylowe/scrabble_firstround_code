{
 "cells": [
  {
   "cell_type": "code",
   "execution_count": null,
   "metadata": {},
   "outputs": [],
   "source": [
    "## requirments \n",
    "import enchant"
   ]
  },
  {
   "cell_type": "code",
   "execution_count": 1,
   "metadata": {},
   "outputs": [],
   "source": [
    "                    ### first round of scrabble \n",
    "\n",
    "def scrabble_round1(input_str):  \n",
    "    \n",
    "    ## create a def function\n",
    "    ## to check if the word created is made from the 7 letters\n",
    "    def is_in_list(word, letters):\n",
    "        word1 = list(word) \n",
    "        ans =[True if x in letters else False for x in word1]\n",
    "        if  all(ans) == True:\n",
    "            return word\n",
    "    \n",
    "    \n",
    "    \n",
    "    #### first part of scrabble \n",
    "    import enchant\n",
    "    #import sys\n",
    "    #input_str = sys.stdin.read()\n",
    "    words = input_str[1:-1]\n",
    "    letters = input_str[-1]\n",
    "    ## checking if each word is made by the 7 letters\n",
    "    ans = [is_in_list(i, letters) for i in words]\n",
    "    \n",
    "    ## if it hasnt been made by the letters it will return a None. So this needs to be removed\n",
    "    input_str = [x for x in ans if x is not None]\n",
    "    \n",
    "    ## check english dict using enchanct\n",
    "    d = enchant.Dict(\"en_Uk\")\n",
    "    ## checking if each word created is in the english dict\n",
    "    input_str = [x for x in input_str if  d.check(x) == True]\n",
    "    \n",
    "    # def function for scoring letter system\n",
    "    def scrabble(letter):\n",
    "        if letter == 'e' or letter =='a' or letter =='i' or letter == 'o' or letter =='n' or letter =='r' or letter =='t' or letter == 'l' or letter =='s' or letter =='u':\n",
    "            return 1\n",
    "        elif letter == 'd' or letter =='g':\n",
    "            return 2\n",
    "        elif letter == 'b' or letter =='c' or letter == 'm' or letter =='p':\n",
    "            return 3\n",
    "        elif letter == 'f' or letter =='h' or letter =='v' or letter =='w' or letter =='y':\n",
    "            return 4\n",
    "        elif letter =='k':\n",
    "            return 5\n",
    "        elif letter =='j' or letter =='x':\n",
    "            return 6\n",
    "        elif letter =='q' or letter =='z':\n",
    "            return 10\n",
    "        else:\n",
    "            return 1\n",
    "    \n",
    "    # def function for scoring  each word\n",
    "    def scrabble_2(word):\n",
    "        arr = list(word)\n",
    "        arr = [scrabble(i) for i in arr]\n",
    "        return sum(arr)\n",
    "\n",
    "    # scoring each word in the list and returning max value\n",
    "    arr = [list(i) for i in input_str]\n",
    "    arr = [scrabble_2(i) for i in arr]\n",
    "    m = max(arr)\n",
    "    \n",
    "    #returning the word with max value \n",
    "    position = [i for i, j in enumerate(arr) if j == m]\n",
    "    y = int(position[0])\n",
    "    print('The word', '\"' +input_str[y] +'\"', 'is the highest scoring word with a score value of', m)\n",
    "    \n",
    "    # returning each value with its score\n",
    "    for (i, item) in enumerate(input_str, start=1):\n",
    "        print('\"' +item+'\"',  'scores ', scrabble_2(item), 'points')\n",
    "  "
   ]
  },
  {
   "cell_type": "code",
   "execution_count": 2,
   "metadata": {},
   "outputs": [
    {
     "name": "stdout",
     "output_type": "stream",
     "text": [
      "The word \"ethane\" is the highest scoring word with a score value of 9\n",
      "\"ethane\" scores  9 points\n",
      "\"hates\" scores  8 points\n",
      "\"sane\" scores  4 points\n",
      "\"ant\" scores  3 points\n"
     ]
    }
   ],
   "source": [
    "# Example: standard input 6 lines, 5 examples and 1 list of letters \n",
    "scrabble_round1(['6', 'ethane', 'hates', 'sane', 'ant', 'bant', 'etaenhs'])"
   ]
  },
  {
   "cell_type": "code",
   "execution_count": null,
   "metadata": {},
   "outputs": [],
   "source": []
  }
 ],
 "metadata": {
  "kernelspec": {
   "display_name": "Python 3",
   "language": "python",
   "name": "python3"
  },
  "language_info": {
   "codemirror_mode": {
    "name": "ipython",
    "version": 3
   },
   "file_extension": ".py",
   "mimetype": "text/x-python",
   "name": "python",
   "nbconvert_exporter": "python",
   "pygments_lexer": "ipython3",
   "version": "3.6.4"
  }
 },
 "nbformat": 4,
 "nbformat_minor": 2
}
